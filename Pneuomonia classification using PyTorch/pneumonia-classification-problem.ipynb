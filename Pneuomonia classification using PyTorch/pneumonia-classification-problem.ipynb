{
 "cells": [
  {
   "cell_type": "markdown",
   "metadata": {},
   "source": [
    "# Pneumonia Classification Project using PyTorch\n",
    "\n",
    "### Objectives:\n",
    "- Use of transforms for image transformations\n",
    "- Use of DataLoader\n",
    "- Load pre-trained EfficientNet model\n",
    "- Fine Tune model\n",
    "- Train classification model  \n",
    "\n",
    "**Source:**\n",
    " Project from Coursera https://www.coursera.org/learn/pneumonia-classification-using-pytorch\n",
    "\n",
    " Dataset: Kaggle\n",
    " https://www.kaggle.com/datasets/paultimothymooney/chest-xray-pneumonia\n"
   ]
  },
  {
   "cell_type": "markdown",
   "metadata": {},
   "source": [
    "## 1. Configurations"
   ]
  },
  {
   "cell_type": "code",
   "execution_count": 6,
   "metadata": {},
   "outputs": [],
   "source": [
    "# !pip3 install torch\n",
    "# !pip3 install tqdm\n",
    "import torch\n",
    "import numpy as np\n",
    "import matplotlib.pyplot as plt\n",
    "import os\n",
    "from tqdm.notebook import tqdm"
   ]
  },
  {
   "cell_type": "code",
   "execution_count": 8,
   "metadata": {},
   "outputs": [
    {
     "name": "stdout",
     "output_type": "stream",
     "text": [
      "Device we're operating on: cpu\n"
     ]
    }
   ],
   "source": [
    "# Configurations\n",
    "\n",
    "class config:\n",
    "    epochs = 1\n",
    "    lr = 0.001\n",
    "    batch_size = 16\n",
    "\n",
    "    model_name = 'tf_efficientnet_b4_ns'  #using pre-trained model efficientNet\n",
    "    img_size = 224  #image size (224, 224)\n",
    "\n",
    "    # config for data loading\n",
    "    DATA_DIR = 'chest_xray_data'\n",
    "    TEST = 'test'\n",
    "    TRAIN = 'train'\n",
    "    VAL = 'val'\n",
    "\n",
    "device = torch.device('cuda' if torch.cuda.is_available() else 'cpu')\n",
    "print('Device we\\'re operating on: {}'.format(device))"
   ]
  },
  {
   "cell_type": "markdown",
   "metadata": {},
   "source": [
    "## Image Transformations and Load Dataset"
   ]
  },
  {
   "cell_type": "markdown",
   "metadata": {},
   "source": []
  },
  {
   "cell_type": "markdown",
   "metadata": {},
   "source": [
    "## Load dataset into batches"
   ]
  },
  {
   "cell_type": "markdown",
   "metadata": {},
   "source": []
  },
  {
   "cell_type": "markdown",
   "metadata": {},
   "source": [
    "## Fine Tuning EfficientNet Model"
   ]
  },
  {
   "cell_type": "markdown",
   "metadata": {},
   "source": []
  },
  {
   "cell_type": "markdown",
   "metadata": {},
   "source": [
    "## Build a simple trainer"
   ]
  },
  {
   "cell_type": "markdown",
   "metadata": {},
   "source": []
  },
  {
   "cell_type": "markdown",
   "metadata": {},
   "source": [
    "## Training Model"
   ]
  },
  {
   "cell_type": "markdown",
   "metadata": {},
   "source": []
  },
  {
   "cell_type": "markdown",
   "metadata": {},
   "source": [
    "## Plot Results"
   ]
  },
  {
   "cell_type": "markdown",
   "metadata": {},
   "source": []
  }
 ],
 "metadata": {
  "kernelspec": {
   "display_name": "Python 3",
   "language": "python",
   "name": "python3"
  },
  "language_info": {
   "codemirror_mode": {
    "name": "ipython",
    "version": 3
   },
   "file_extension": ".py",
   "mimetype": "text/x-python",
   "name": "python",
   "nbconvert_exporter": "python",
   "pygments_lexer": "ipython3",
   "version": "3.11.0"
  }
 },
 "nbformat": 4,
 "nbformat_minor": 2
}
